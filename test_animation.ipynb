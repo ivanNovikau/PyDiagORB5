{
 "cells": [
  {
   "cell_type": "code",
   "execution_count": 17,
   "metadata": {},
   "outputs": [
    {
     "data": {
      "text/html": [
       "<script type=\"text/javascript\">window.PlotlyConfig = {MathJaxConfig: 'local'};</script><script type=\"text/javascript\">if (window.MathJax) {MathJax.Hub.Config({SVG: {font: \"STIX-Web\"}});}</script><script>requirejs.config({paths: { 'plotly': ['https://cdn.plot.ly/plotly-latest.min']},});if(!window._Plotly) {require(['plotly'],function(plotly) {window._Plotly=plotly;});}</script>"
      ],
      "text/vnd.plotly.v1+html": [
       "<script type=\"text/javascript\">window.PlotlyConfig = {MathJaxConfig: 'local'};</script><script type=\"text/javascript\">if (window.MathJax) {MathJax.Hub.Config({SVG: {font: \"STIX-Web\"}});}</script><script>requirejs.config({paths: { 'plotly': ['https://cdn.plot.ly/plotly-latest.min']},});if(!window._Plotly) {require(['plotly'],function(plotly) {window._Plotly=plotly;});}</script>"
      ]
     },
     "metadata": {},
     "output_type": "display_data"
    }
   ],
   "source": [
    "from plotly.offline import init_notebook_mode\n",
    "init_notebook_mode(connected=True)\n",
    "\n",
    "import Mix as mix\n",
    "from lib import tests"
   ]
  },
  {
   "cell_type": "code",
   "execution_count": 62,
   "metadata": {},
   "outputs": [],
   "source": [
    "mix.reload_module(tests)"
   ]
  },
  {
   "cell_type": "code",
   "execution_count": 63,
   "metadata": {
    "scrolled": false
   },
   "outputs": [
    {
     "data": {
      "application/vnd.plotly.v1+json": {
       "config": {
        "linkText": "Export to plot.ly",
        "plotlyServerURL": "https://plot.ly",
        "showLink": false
       },
       "data": [
        {
         "line": {
          "color": "blue",
          "dash": "dash",
          "width": 4
         },
         "marker": {
          "color": "blue",
          "size": 12
         },
         "mode": "lines",
         "name": "$\\mathbf{\\Phi}$",
         "type": "scatter",
         "uid": "f9541242-3c01-43eb-963e-1b01dd9ee709",
         "x": [
          10,
          20,
          30,
          40,
          50,
          60,
          70,
          80,
          90,
          100
         ],
         "y": [
          1,
          2,
          3,
          4,
          5,
          6,
          7,
          8,
          9,
          10
         ]
        },
        {
         "line": {
          "color": "red",
          "width": 4
         },
         "marker": {
          "color": "red",
          "size": 12
         },
         "mode": "markers",
         "name": "$\\mathbf{\\overline{\\Phi}}$",
         "type": "scatter",
         "uid": "4b37d489-cc58-4d7e-bac1-65183f3af4c9",
         "x": [
          10,
          20,
          30,
          40,
          50,
          60,
          70,
          80,
          90,
          100
         ],
         "y": [
          100,
          200,
          300,
          400,
          500,
          600,
          700,
          800,
          900,
          1000
         ]
        }
       ],
       "layout": {
        "title": {
         "font": {
          "size": 18
         },
         "text": "Some data"
        },
        "xaxis": {
         "tickfont": {
          "size": 18
         },
         "title": {
          "font": {
           "size": 18
          },
          "text": "$\\kappa$"
         }
        },
        "yaxis": {
         "tickfont": {
          "size": 18
         },
         "title": {
          "font": {
           "size": 18
          },
          "text": "$\\mathbf{\\Phi}$"
         },
         "type": "log"
        }
       }
      },
      "text/html": [
       "<div id=\"42e333e6-8a98-4de0-b096-d2a2d25a7c49\" style=\"height: 525px; width: 100%;\" class=\"plotly-graph-div\"></div><script type=\"text/javascript\">require([\"plotly\"], function(Plotly) { window.PLOTLYENV=window.PLOTLYENV || {};window.PLOTLYENV.BASE_URL=\"https://plot.ly\";\n",
       "if (document.getElementById(\"42e333e6-8a98-4de0-b096-d2a2d25a7c49\")) {\n",
       "    Plotly.newPlot(\"42e333e6-8a98-4de0-b096-d2a2d25a7c49\", [{\"line\": {\"color\": \"blue\", \"dash\": \"dash\", \"width\": 4}, \"marker\": {\"color\": \"blue\", \"size\": 12}, \"mode\": \"lines\", \"name\": \"$\\\\mathbf{\\\\Phi}$\", \"x\": [10, 20, 30, 40, 50, 60, 70, 80, 90, 100], \"y\": [1, 2, 3, 4, 5, 6, 7, 8, 9, 10], \"type\": \"scatter\", \"uid\": \"f9541242-3c01-43eb-963e-1b01dd9ee709\"}, {\"line\": {\"color\": \"red\", \"width\": 4}, \"marker\": {\"color\": \"red\", \"size\": 12}, \"mode\": \"markers\", \"name\": \"$\\\\mathbf{\\\\overline{\\\\Phi}}$\", \"x\": [10, 20, 30, 40, 50, 60, 70, 80, 90, 100], \"y\": [100, 200, 300, 400, 500, 600, 700, 800, 900, 1000], \"type\": \"scatter\", \"uid\": \"4b37d489-cc58-4d7e-bac1-65183f3af4c9\"}], {\"title\": {\"font\": {\"size\": 18}, \"text\": \"Some data\"}, \"xaxis\": {\"tickfont\": {\"size\": 18}, \"title\": {\"font\": {\"size\": 18}, \"text\": \"$\\\\kappa$\"}}, \"yaxis\": {\"tickfont\": {\"size\": 18}, \"title\": {\"font\": {\"size\": 18}, \"text\": \"$\\\\mathbf{\\\\Phi}$\"}, \"type\": \"log\"}}, {\"showLink\": false, \"linkText\": \"Export to plot.ly\", \"plotlyServerURL\": \"https://plot.ly\"}); \n",
       "}\n",
       "});</script><script type=\"text/javascript\">window.addEventListener(\"resize\", function(){if (document.getElementById(\"42e333e6-8a98-4de0-b096-d2a2d25a7c49\")) {window._Plotly.Plots.resize(document.getElementById(\"42e333e6-8a98-4de0-b096-d2a2d25a7c49\"));};})</script>"
      ],
      "text/vnd.plotly.v1+html": [
       "<div id=\"42e333e6-8a98-4de0-b096-d2a2d25a7c49\" style=\"height: 525px; width: 100%;\" class=\"plotly-graph-div\"></div><script type=\"text/javascript\">require([\"plotly\"], function(Plotly) { window.PLOTLYENV=window.PLOTLYENV || {};window.PLOTLYENV.BASE_URL=\"https://plot.ly\";\n",
       "if (document.getElementById(\"42e333e6-8a98-4de0-b096-d2a2d25a7c49\")) {\n",
       "    Plotly.newPlot(\"42e333e6-8a98-4de0-b096-d2a2d25a7c49\", [{\"line\": {\"color\": \"blue\", \"dash\": \"dash\", \"width\": 4}, \"marker\": {\"color\": \"blue\", \"size\": 12}, \"mode\": \"lines\", \"name\": \"$\\\\mathbf{\\\\Phi}$\", \"x\": [10, 20, 30, 40, 50, 60, 70, 80, 90, 100], \"y\": [1, 2, 3, 4, 5, 6, 7, 8, 9, 10], \"type\": \"scatter\", \"uid\": \"f9541242-3c01-43eb-963e-1b01dd9ee709\"}, {\"line\": {\"color\": \"red\", \"width\": 4}, \"marker\": {\"color\": \"red\", \"size\": 12}, \"mode\": \"markers\", \"name\": \"$\\\\mathbf{\\\\overline{\\\\Phi}}$\", \"x\": [10, 20, 30, 40, 50, 60, 70, 80, 90, 100], \"y\": [100, 200, 300, 400, 500, 600, 700, 800, 900, 1000], \"type\": \"scatter\", \"uid\": \"4b37d489-cc58-4d7e-bac1-65183f3af4c9\"}], {\"title\": {\"font\": {\"size\": 18}, \"text\": \"Some data\"}, \"xaxis\": {\"tickfont\": {\"size\": 18}, \"title\": {\"font\": {\"size\": 18}, \"text\": \"$\\\\kappa$\"}}, \"yaxis\": {\"tickfont\": {\"size\": 18}, \"title\": {\"font\": {\"size\": 18}, \"text\": \"$\\\\mathbf{\\\\Phi}$\"}, \"type\": \"log\"}}, {\"showLink\": false, \"linkText\": \"Export to plot.ly\", \"plotlyServerURL\": \"https://plot.ly\"}); \n",
       "}\n",
       "});</script><script type=\"text/javascript\">window.addEventListener(\"resize\", function(){if (document.getElementById(\"42e333e6-8a98-4de0-b096-d2a2d25a7c49\")) {window._Plotly.Plots.resize(document.getElementById(\"42e333e6-8a98-4de0-b096-d2a2d25a7c49\"));};})</script>"
      ]
     },
     "metadata": {},
     "output_type": "display_data"
    },
    {
     "data": {
      "application/vnd.plotly.v1+json": {
       "config": {
        "linkText": "Export to plot.ly",
        "plotlyServerURL": "https://plot.ly",
        "showLink": false
       },
       "data": [
        {
         "line": {
          "color": "blue",
          "dash": "dash",
          "width": 10
         },
         "marker": {
          "color": "blue",
          "size": 32
         },
         "mode": "lines",
         "name": "$\\mathbf{\\Phi}$",
         "type": "scatter",
         "uid": "d2292acf-ffd1-4162-bc7b-ab43d9c22251",
         "x": [
          10,
          20,
          30,
          40,
          50,
          60,
          70,
          80,
          90,
          100
         ],
         "y": [
          1,
          2,
          3,
          4,
          5,
          6,
          7,
          8,
          9,
          10
         ]
        },
        {
         "line": {
          "color": "grey",
          "width": 10
         },
         "marker": {
          "color": "grey",
          "size": 16
         },
         "mode": "markers",
         "name": "$\\mathbf{\\overline{\\Phi}}$",
         "type": "scatter",
         "uid": "9fd668f9-0bb8-4189-a25b-dfc82a74100c",
         "x": [
          10,
          20,
          30,
          40,
          50,
          60,
          70,
          80,
          90,
          100
         ],
         "y": [
          100,
          200,
          300,
          400,
          500,
          600,
          700,
          800,
          900,
          1000
         ]
        }
       ],
       "layout": {
        "title": {
         "font": {
          "size": 38
         },
         "text": "The same data"
        },
        "xaxis": {
         "tickfont": {
          "size": 24
         },
         "title": {
          "font": {
           "size": 38
          },
          "text": "$\\kappa$"
         }
        },
        "yaxis": {
         "tickfont": {
          "size": 24
         },
         "title": {
          "font": {
           "size": 38
          },
          "text": "$\\mathbf{\\Phi}$"
         },
         "type": "log"
        }
       }
      },
      "text/html": [
       "<div id=\"daffa149-be0e-4235-8bb2-b7880a13ad30\" style=\"height: 525px; width: 100%;\" class=\"plotly-graph-div\"></div><script type=\"text/javascript\">require([\"plotly\"], function(Plotly) { window.PLOTLYENV=window.PLOTLYENV || {};window.PLOTLYENV.BASE_URL=\"https://plot.ly\";\n",
       "if (document.getElementById(\"daffa149-be0e-4235-8bb2-b7880a13ad30\")) {\n",
       "    Plotly.newPlot(\"daffa149-be0e-4235-8bb2-b7880a13ad30\", [{\"line\": {\"color\": \"blue\", \"dash\": \"dash\", \"width\": 10}, \"marker\": {\"color\": \"blue\", \"size\": 32}, \"mode\": \"lines\", \"name\": \"$\\\\mathbf{\\\\Phi}$\", \"x\": [10, 20, 30, 40, 50, 60, 70, 80, 90, 100], \"y\": [1, 2, 3, 4, 5, 6, 7, 8, 9, 10], \"type\": \"scatter\", \"uid\": \"d2292acf-ffd1-4162-bc7b-ab43d9c22251\"}, {\"line\": {\"color\": \"grey\", \"width\": 10}, \"marker\": {\"color\": \"grey\", \"size\": 16}, \"mode\": \"markers\", \"name\": \"$\\\\mathbf{\\\\overline{\\\\Phi}}$\", \"x\": [10, 20, 30, 40, 50, 60, 70, 80, 90, 100], \"y\": [100, 200, 300, 400, 500, 600, 700, 800, 900, 1000], \"type\": \"scatter\", \"uid\": \"9fd668f9-0bb8-4189-a25b-dfc82a74100c\"}], {\"title\": {\"font\": {\"size\": 38}, \"text\": \"The same data\"}, \"xaxis\": {\"tickfont\": {\"size\": 24}, \"title\": {\"font\": {\"size\": 38}, \"text\": \"$\\\\kappa$\"}}, \"yaxis\": {\"tickfont\": {\"size\": 24}, \"title\": {\"font\": {\"size\": 38}, \"text\": \"$\\\\mathbf{\\\\Phi}$\"}, \"type\": \"log\"}}, {\"showLink\": false, \"linkText\": \"Export to plot.ly\", \"plotlyServerURL\": \"https://plot.ly\"}); \n",
       "}\n",
       "});</script><script type=\"text/javascript\">window.addEventListener(\"resize\", function(){if (document.getElementById(\"daffa149-be0e-4235-8bb2-b7880a13ad30\")) {window._Plotly.Plots.resize(document.getElementById(\"daffa149-be0e-4235-8bb2-b7880a13ad30\"));};})</script>"
      ],
      "text/vnd.plotly.v1+html": [
       "<div id=\"daffa149-be0e-4235-8bb2-b7880a13ad30\" style=\"height: 525px; width: 100%;\" class=\"plotly-graph-div\"></div><script type=\"text/javascript\">require([\"plotly\"], function(Plotly) { window.PLOTLYENV=window.PLOTLYENV || {};window.PLOTLYENV.BASE_URL=\"https://plot.ly\";\n",
       "if (document.getElementById(\"daffa149-be0e-4235-8bb2-b7880a13ad30\")) {\n",
       "    Plotly.newPlot(\"daffa149-be0e-4235-8bb2-b7880a13ad30\", [{\"line\": {\"color\": \"blue\", \"dash\": \"dash\", \"width\": 10}, \"marker\": {\"color\": \"blue\", \"size\": 32}, \"mode\": \"lines\", \"name\": \"$\\\\mathbf{\\\\Phi}$\", \"x\": [10, 20, 30, 40, 50, 60, 70, 80, 90, 100], \"y\": [1, 2, 3, 4, 5, 6, 7, 8, 9, 10], \"type\": \"scatter\", \"uid\": \"d2292acf-ffd1-4162-bc7b-ab43d9c22251\"}, {\"line\": {\"color\": \"grey\", \"width\": 10}, \"marker\": {\"color\": \"grey\", \"size\": 16}, \"mode\": \"markers\", \"name\": \"$\\\\mathbf{\\\\overline{\\\\Phi}}$\", \"x\": [10, 20, 30, 40, 50, 60, 70, 80, 90, 100], \"y\": [100, 200, 300, 400, 500, 600, 700, 800, 900, 1000], \"type\": \"scatter\", \"uid\": \"9fd668f9-0bb8-4189-a25b-dfc82a74100c\"}], {\"title\": {\"font\": {\"size\": 38}, \"text\": \"The same data\"}, \"xaxis\": {\"tickfont\": {\"size\": 24}, \"title\": {\"font\": {\"size\": 38}, \"text\": \"$\\\\kappa$\"}}, \"yaxis\": {\"tickfont\": {\"size\": 24}, \"title\": {\"font\": {\"size\": 38}, \"text\": \"$\\\\mathbf{\\\\Phi}$\"}, \"type\": \"log\"}}, {\"showLink\": false, \"linkText\": \"Export to plot.ly\", \"plotlyServerURL\": \"https://plot.ly\"}); \n",
       "}\n",
       "});</script><script type=\"text/javascript\">window.addEventListener(\"resize\", function(){if (document.getElementById(\"daffa149-be0e-4235-8bb2-b7880a13ad30\")) {window._Plotly.Plots.resize(document.getElementById(\"daffa149-be0e-4235-8bb2-b7880a13ad30\"));};})</script>"
      ]
     },
     "metadata": {},
     "output_type": "display_data"
    }
   ],
   "source": [
    "tests.test_curves()"
   ]
  },
  {
   "cell_type": "code",
   "execution_count": 72,
   "metadata": {},
   "outputs": [
    {
     "data": {
      "application/vnd.plotly.v1+json": {
       "config": {
        "linkText": "Export to plot.ly",
        "plotlyServerURL": "https://plot.ly",
        "showLink": false
       },
       "data": [
        {
         "type": "contour",
         "uid": "cb635786-0951-4d4c-9363-e37867ba5613",
         "z": [
          [
           10,
           10.625,
           12.5,
           15.625,
           20
          ],
          [
           5.625,
           6.25,
           8.125,
           11.25,
           15.625
          ],
          [
           2.5,
           3.125,
           5,
           8.125,
           12.5
          ],
          [
           0.625,
           1.25,
           3.125,
           6.25,
           10.625
          ],
          [
           0,
           0.625,
           2.5,
           5.625,
           10
          ]
         ]
        },
        {
         "type": "scatter",
         "uid": "24a17584-afb6-4164-9504-bfe42f6c92ff",
         "x": [
          1,
          2,
          3
         ],
         "y": [
          0.5,
          2,
          3.5
         ]
        }
       ],
       "layout": {}
      },
      "text/html": [
       "<div id=\"c8c23e95-629e-4e4a-8f8a-ebea2daee5a9\" style=\"height: 525px; width: 100%;\" class=\"plotly-graph-div\"></div><script type=\"text/javascript\">require([\"plotly\"], function(Plotly) { window.PLOTLYENV=window.PLOTLYENV || {};window.PLOTLYENV.BASE_URL=\"https://plot.ly\";\n",
       "if (document.getElementById(\"c8c23e95-629e-4e4a-8f8a-ebea2daee5a9\")) {\n",
       "    Plotly.newPlot(\"c8c23e95-629e-4e4a-8f8a-ebea2daee5a9\", [{\"z\": [[10, 10.625, 12.5, 15.625, 20], [5.625, 6.25, 8.125, 11.25, 15.625], [2.5, 3.125, 5.0, 8.125, 12.5], [0.625, 1.25, 3.125, 6.25, 10.625], [0, 0.625, 2.5, 5.625, 10]], \"type\": \"contour\", \"uid\": \"a66eb3b4-bd2b-4bd6-b342-4e32f9cd2377\"}, {\"x\": [1, 2, 3], \"y\": [0.5, 2, 3.5], \"type\": \"scatter\", \"uid\": \"65bee600-bcc9-4213-ab32-5dcccf30962a\"}], {}, {\"showLink\": false, \"linkText\": \"Export to plot.ly\", \"plotlyServerURL\": \"https://plot.ly\"}); \n",
       "}\n",
       "});</script><script type=\"text/javascript\">window.addEventListener(\"resize\", function(){if (document.getElementById(\"c8c23e95-629e-4e4a-8f8a-ebea2daee5a9\")) {window._Plotly.Plots.resize(document.getElementById(\"c8c23e95-629e-4e4a-8f8a-ebea2daee5a9\"));};})</script>"
      ],
      "text/vnd.plotly.v1+html": [
       "<div id=\"c8c23e95-629e-4e4a-8f8a-ebea2daee5a9\" style=\"height: 525px; width: 100%;\" class=\"plotly-graph-div\"></div><script type=\"text/javascript\">require([\"plotly\"], function(Plotly) { window.PLOTLYENV=window.PLOTLYENV || {};window.PLOTLYENV.BASE_URL=\"https://plot.ly\";\n",
       "if (document.getElementById(\"c8c23e95-629e-4e4a-8f8a-ebea2daee5a9\")) {\n",
       "    Plotly.newPlot(\"c8c23e95-629e-4e4a-8f8a-ebea2daee5a9\", [{\"z\": [[10, 10.625, 12.5, 15.625, 20], [5.625, 6.25, 8.125, 11.25, 15.625], [2.5, 3.125, 5.0, 8.125, 12.5], [0.625, 1.25, 3.125, 6.25, 10.625], [0, 0.625, 2.5, 5.625, 10]], \"type\": \"contour\", \"uid\": \"a66eb3b4-bd2b-4bd6-b342-4e32f9cd2377\"}, {\"x\": [1, 2, 3], \"y\": [0.5, 2, 3.5], \"type\": \"scatter\", \"uid\": \"65bee600-bcc9-4213-ab32-5dcccf30962a\"}], {}, {\"showLink\": false, \"linkText\": \"Export to plot.ly\", \"plotlyServerURL\": \"https://plot.ly\"}); \n",
       "}\n",
       "});</script><script type=\"text/javascript\">window.addEventListener(\"resize\", function(){if (document.getElementById(\"c8c23e95-629e-4e4a-8f8a-ebea2daee5a9\")) {window._Plotly.Plots.resize(document.getElementById(\"c8c23e95-629e-4e4a-8f8a-ebea2daee5a9\"));};})</script>"
      ]
     },
     "metadata": {},
     "output_type": "display_data"
    }
   ],
   "source": [
    "import plotly.offline as py\n",
    "import plotly.graph_objs as go\n",
    "\n",
    "data = [\n",
    "    go.Contour(\n",
    "        z=[[10, 10.625, 12.5, 15.625, 20],\n",
    "           [5.625, 6.25, 8.125, 11.25, 15.625],\n",
    "           [2.5, 3.125, 5., 8.125, 12.5],\n",
    "           [0.625, 1.25, 3.125, 6.25, 10.625],\n",
    "           [0, 0.625, 2.5, 5.625, 10]]\n",
    "    ),\n",
    "    go.Scatter(x=[1,2,3], y=[0.5, 2, 3.5])\n",
    "]\n",
    "py.iplot(data)"
   ]
  },
  {
   "cell_type": "code",
   "execution_count": 1,
   "metadata": {},
   "outputs": [
    {
     "data": {
      "text/plain": [
       "55296"
      ]
     },
     "execution_count": 1,
     "metadata": {},
     "output_type": "execute_result"
    }
   ],
   "source": [
    "24 * 48 * 48"
   ]
  },
  {
   "cell_type": "code",
   "execution_count": null,
   "metadata": {},
   "outputs": [],
   "source": []
  }
 ],
 "metadata": {
  "kernelspec": {
   "display_name": "Python 3",
   "language": "python",
   "name": "python3"
  },
  "language_info": {
   "codemirror_mode": {
    "name": "ipython",
    "version": 3
   },
   "file_extension": ".py",
   "mimetype": "text/x-python",
   "name": "python",
   "nbconvert_exporter": "python",
   "pygments_lexer": "ipython3",
   "version": "3.6.2"
  }
 },
 "nbformat": 4,
 "nbformat_minor": 2
}

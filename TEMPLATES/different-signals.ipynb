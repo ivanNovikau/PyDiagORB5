{
 "cells": [
  {
   "cell_type": "code",
   "execution_count": 1,
   "metadata": {},
   "outputs": [
    {
     "data": {
      "text/html": [
       "        <script type=\"text/javascript\">\n",
       "        window.PlotlyConfig = {MathJaxConfig: 'local'};\n",
       "        if (window.MathJax) {MathJax.Hub.Config({SVG: {font: \"STIX-Web\"}});}\n",
       "        if (typeof require !== 'undefined') {\n",
       "        require.undef(\"plotly\");\n",
       "        requirejs.config({\n",
       "            paths: {\n",
       "                'plotly': ['https://cdn.plot.ly/plotly-latest.min']\n",
       "            }\n",
       "        });\n",
       "        require(['plotly'], function(Plotly) {\n",
       "            window._Plotly = Plotly;\n",
       "        });\n",
       "        }\n",
       "        </script>\n",
       "        "
      ]
     },
     "metadata": {},
     "output_type": "display_data"
    }
   ],
   "source": [
    "from plotly.offline import init_notebook_mode\n",
    "init_notebook_mode(connected=True)\n",
    "%matplotlib notebook"
   ]
  },
  {
   "cell_type": "code",
   "execution_count": 2,
   "metadata": {},
   "outputs": [
    {
     "name": "stdout",
     "output_type": "stream",
     "text": [
      "D:\\Work-Projects\\MyProgs\\PyWorkScripts\\PyDiagORB5\n"
     ]
    }
   ],
   "source": [
    "cd ../"
   ]
  },
  {
   "cell_type": "code",
   "execution_count": 3,
   "metadata": {},
   "outputs": [],
   "source": [
    "run start_template.py"
   ]
  },
  {
   "cell_type": "code",
   "execution_count": null,
   "metadata": {},
   "outputs": [],
   "source": [
    "# *********************************************\n",
    "# *** PLOT DISTRIBUTION FUNCTION ALONG VPAR ***\n",
    "# *********************************************\n",
    "reload()\n",
    "\n",
    "# signal\n",
    "chosen_signal_D = {\n",
    "    'dd': nb025_f009_orig,\n",
    "    'type':             'distribution',\n",
    "    'variable':         'f_vel_1d',\n",
    "    'species':          'deuterium',\n",
    "    'plane':            'tvpar',\n",
    "    'avr_operation':    'point-t',\n",
    "    'avr_domain':       0.0,\n",
    "}\n",
    "chosen_signal_EP = dict(chosen_signal_D)\n",
    "chosen_signal_EP.update({\n",
    "    'dd': nb025_f009_orig,\n",
    "    'species': 'fast'\n",
    "})\n",
    "\n",
    "# styling\n",
    "ff = dict(GLO.DEF_PLOT_FORMAT)\n",
    "ff['xlabel'] = 'v_{\\parallel}'\n",
    "ff['ylabel'] = 'f'\n",
    "ff['title'] = 'distribution\\ function'\n",
    "ff['legends'] = ['D', 'EP']\n",
    "\n",
    "oo_equ = {\n",
    "    'signals': [chosen_signal_D, chosen_signal_EP],\n",
    "    'ff': ff,\n",
    "}\n",
    "common.plot_vars_1d(oo_equ)"
   ]
  },
  {
   "cell_type": "code",
   "execution_count": null,
   "metadata": {},
   "outputs": [],
   "source": [
    "# *******************************************************************************************\n",
    "# *** PLOT DIFFUSIVITY COEFFICIENT NORMALIZED TO INITIAL DENSITY AND TEMPERATURE PROFILES ***\n",
    "# *******************************************************************************************\n",
    "reload()\n",
    "\n",
    "# signal\n",
    "chosen_signal = {\n",
    "    'dd': nb025_f009_orig,\n",
    "    'type':             'transport',\n",
    "    'variable':         'chi_norm0',\n",
    "    'species':          'deuterium',\n",
    "    'plane':            'ts',\n",
    "    'avr_operation':    'mean-s',\n",
    "    'avr_domain':       [0.2, 0.9],\n",
    "}\n",
    "\n",
    "# styling\n",
    "ff = dict(GLO.DEF_PLOT_FORMAT)\n",
    "ff['xlabel'] = 't'\n",
    "ff['ylabel'] = '\\chi'\n",
    "ff['title'] = 'diffusivity\\ coefficient'\n",
    "\n",
    "oo_equ = {\n",
    "    'signals': [chosen_signal],\n",
    "    'ff': ff,\n",
    "}\n",
    "common.plot_vars_1d(oo_equ)"
   ]
  },
  {
   "cell_type": "code",
   "execution_count": null,
   "metadata": {},
   "outputs": [],
   "source": []
  }
 ],
 "metadata": {
  "kernelspec": {
   "display_name": "Python 3",
   "language": "python",
   "name": "python3"
  },
  "language_info": {
   "codemirror_mode": {
    "name": "ipython",
    "version": 3
   },
   "file_extension": ".py",
   "mimetype": "text/x-python",
   "name": "python",
   "nbconvert_exporter": "python",
   "pygments_lexer": "ipython3",
   "version": "3.6.2"
  }
 },
 "nbformat": 4,
 "nbformat_minor": 2
}

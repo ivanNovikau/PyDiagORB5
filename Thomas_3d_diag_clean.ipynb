{
 "cells": [
  {
   "cell_type": "code",
   "execution_count": null,
   "metadata": {},
   "outputs": [],
   "source": [
    "#%cd /draco/ptmp/thay/orb5/marconi/iter_mm_nl_n20to30_g0_fulls\n",
    "%cd /draco/ptmp/thay/orb5/marconi/iter_mm_nl_n20to30_nft2_mr200_np2x_N64_cl6\n",
    "#%cd ../iter_mm_nl_n24to27_mr200_np1x\n",
    "#%cd ../iter_mm_nl_n20to30_fulls_nft2_mr200_npe1B\n",
    "#! orb5_utils.py -phi2d_use_n=1 -run_phi2d_peak=1 -update_npy=1 -phi_mmin=20 -phi_mmax=30\n",
    "#! convert fft_modes_n_at_peaks.pdf fft_modes_n_at_peaks.png\n",
    "# from IPython.display import Image\n",
    "# fig = Image(filename=('fft_modes_n_at_peaks.png'))\n",
    "# fig"
   ]
  },
  {
   "cell_type": "code",
   "execution_count": null,
   "metadata": {},
   "outputs": [],
   "source": [
    "#!ls -d /draco/ptmp/thay/orb5/marconi/iter*"
   ]
  },
  {
   "cell_type": "code",
   "execution_count": 1,
   "metadata": {},
   "outputs": [
    {
     "ename": "ModuleNotFoundError",
     "evalue": "No module named 'orb5_utils'",
     "output_type": "error",
     "traceback": [
      "\u001b[1;31m---------------------------------------------------------------------------\u001b[0m",
      "\u001b[1;31mModuleNotFoundError\u001b[0m                       Traceback (most recent call last)",
      "\u001b[1;32m<ipython-input-1-231c5df9fff5>\u001b[0m in \u001b[0;36m<module>\u001b[1;34m\u001b[0m\n\u001b[0;32m      1\u001b[0m \u001b[1;32mimport\u001b[0m \u001b[0mh5py\u001b[0m\u001b[1;33m\u001b[0m\u001b[0m\n\u001b[0;32m      2\u001b[0m \u001b[1;32mimport\u001b[0m \u001b[0mnumpy\u001b[0m \u001b[1;32mas\u001b[0m \u001b[0mnp\u001b[0m\u001b[1;33m\u001b[0m\u001b[0m\n\u001b[1;32m----> 3\u001b[1;33m \u001b[1;32mimport\u001b[0m \u001b[0morb5_utils\u001b[0m\u001b[1;33m\u001b[0m\u001b[0m\n\u001b[0m\u001b[0;32m      4\u001b[0m \u001b[1;32mimport\u001b[0m \u001b[0morb5_3d_utils\u001b[0m\u001b[1;33m\u001b[0m\u001b[0m\n\u001b[0;32m      5\u001b[0m \u001b[1;32mimport\u001b[0m \u001b[0mmatplotlib\u001b[0m\u001b[1;33m.\u001b[0m\u001b[0mpyplot\u001b[0m \u001b[1;32mas\u001b[0m \u001b[0mplt\u001b[0m\u001b[1;33m\u001b[0m\u001b[0m\n",
      "\u001b[1;31mModuleNotFoundError\u001b[0m: No module named 'orb5_utils'"
     ]
    }
   ],
   "source": [
    "import h5py\n",
    "import numpy as np\n",
    "import orb5_utils\n",
    "import orb5_3d_utils\n",
    "import matplotlib.pyplot as plt\n",
    "%matplotlib inline\n",
    "#%matplotlib notebook"
   ]
  },
  {
   "cell_type": "code",
   "execution_count": null,
   "metadata": {},
   "outputs": [],
   "source": [
    "from ipywidgets import interact, interactive, fixed, interact_manual\n",
    "import ipywidgets as widgets"
   ]
  },
  {
   "cell_type": "code",
   "execution_count": null,
   "metadata": {
    "scrolled": true
   },
   "outputs": [],
   "source": [
    "import plot_sig_noise"
   ]
  },
  {
   "cell_type": "code",
   "execution_count": null,
   "metadata": {},
   "outputs": [],
   "source": [
    "orbp = orb5_3d_utils.orb5_3d_data()\n",
    "orbp.load_hdf5()\n",
    "orbp.load_phi3d()\n",
    "orbp.load_nmodes()"
   ]
  },
  {
   "cell_type": "code",
   "execution_count": null,
   "metadata": {},
   "outputs": [],
   "source": [
    "print(orbp.n_mode_numbers)\n",
    "print(orbp.n_mode_numbers_nft)"
   ]
  },
  {
   "cell_type": "code",
   "execution_count": null,
   "metadata": {},
   "outputs": [],
   "source": [
    "# sum on m-modes\n",
    "n_ffts = orbp.n_fft()"
   ]
  },
  {
   "cell_type": "code",
   "execution_count": null,
   "metadata": {},
   "outputs": [],
   "source": [
    "# plot field: sum on m, at every n: (t,s)\n",
    "fig, (ax1,ax2) = plt.subplots(1,2, figsize=(12,4))\n",
    "for intor, ntor in enumerate(orbp.n_mode_numbers):\n",
    "    if ntor not in orbp.n_mode_numbers_nft:\n",
    "        continue\n",
    "    ax1.plot(orbp.p3t[:], np.max( np.abs(n_ffts[:,intor,:]), axis=1), label=ntor)\n",
    "    ax2.plot(orbp.p3t[:], np.max(np.real(n_ffts[:,intor,:]), axis=1), label=ntor)\n",
    "#    ax3.plot(orbp.p3t[:], np.max(np.imag(n_ffts[:,intor,:]), axis=1), label=ntor)\n",
    "for axi in [ax1,ax2]:\n",
    "    axi.set_yscale('log')\n",
    "    axi.legend(framealpha=0.5, fancybox=True, loc='best', ncol=2)"
   ]
  },
  {
   "cell_type": "code",
   "execution_count": null,
   "metadata": {},
   "outputs": [],
   "source": [
    "tstride = 50\n",
    "fig, ax = plt.subplots()\n",
    "for intor, ntor in enumerate(orbp.n_mode_numbers):\n",
    "    if ntor not in orbp.n_mode_numbers_nft:\n",
    "        continue\n",
    "    ax.plot(orbp.p3t[::tstride], np.max(np.abs(n_ffts[::tstride,intor,:]), axis=1), label=ntor)\n",
    "ax.set_yscale('log')\n",
    "ax.legend(framealpha=0.5, fancybox=True, loc='best', ncol=2)"
   ]
  },
  {
   "cell_type": "code",
   "execution_count": null,
   "metadata": {},
   "outputs": [],
   "source": [
    "orbp.p3dz.shape"
   ]
  },
  {
   "cell_type": "code",
   "execution_count": null,
   "metadata": {},
   "outputs": [],
   "source": [
    "orbp.set_radial_offsets()\n",
    "orbp.radial_offsets\n",
    "orbp.load_serial()"
   ]
  },
  {
   "cell_type": "code",
   "execution_count": null,
   "metadata": {},
   "outputs": [],
   "source": [
    "itime = -1\n",
    "pscs = {}\n",
    "pscs['itime'] = itime\n",
    "pscs[-1] = orbp.create_potsc(itime)\n",
    "for intor, ntor in enumerate(orbp.n_mode_numbers_nft):\n",
    "    psc = orbp.create_potsc(itime, nchi=None, nlist=[ntor])\n",
    "    pscs[ntor] = psc"
   ]
  },
  {
   "cell_type": "code",
   "execution_count": null,
   "metadata": {},
   "outputs": [],
   "source": [
    "try:\n",
    "    pscs[30].shape\n",
    "except:\n",
    "    pass"
   ]
  },
  {
   "cell_type": "code",
   "execution_count": null,
   "metadata": {},
   "outputs": [],
   "source": [
    "fig, ax = plt.subplots(figsize=(4,7))\n",
    "_ = orbp.plot_psc(np.real(pscs[-1]), outline=True, fig=fig, ax=ax, aspect=1)"
   ]
  },
  {
   "cell_type": "code",
   "execution_count": null,
   "metadata": {},
   "outputs": [],
   "source": [
    "@interact(ntor=(min(orbp.n_mode_numbers), max(orbp.n_mode_numbers), orbp.nft), all_modes=False, outline_eq=False)\n",
    "def plot_plane(ntor=-1, all_modes=False, outline_eq=False):\n",
    "    fig, ax = plt.subplots(figsize=(4,7))\n",
    "    moden = -1 if all_modes else ntor\n",
    "    _ = orbp.plot_psc(np.real(pscs[moden]), fig=fig, ax=ax, aspect=1, cmap='RdBu_r', sym_clim=True, outline=True, outline_eq=outline_eq)\n"
   ]
  },
  {
   "cell_type": "code",
   "execution_count": null,
   "metadata": {},
   "outputs": [],
   "source": [
    "precompute_pscs = False\n",
    "itevery = 10\n",
    "if precompute_pscs:\n",
    "    try:\n",
    "        print(pscs_n_t.keys())\n",
    "    except:\n",
    "        pscs_n_t = {}\n",
    "    \n",
    "    for ntor in orbp.n_mode_numbers_nft+[-1]:\n",
    "        print(ntor)\n",
    "        if ntor in pscs_n_t:\n",
    "            continue\n",
    "        pscs_n_t[ntor] = {}\n",
    "        pscs_n_t[ntor]['n'] = ntor\n",
    "        pscs_n_t[ntor]['times'] = {}\n",
    "        pscs_n_t[ntor]['itimes'] = []\n",
    "        for itime, time in enumerate(orbp.p3t[:]):\n",
    "            if itime % itevery != 0:\n",
    "                continue\n",
    "            pscs_n_t[ntor]['itimes'].append(itime)\n",
    "            pscs_n_t[ntor]['times'][itime] = time\n",
    "            if ntor == -1:\n",
    "                nlist = list(np.arange(20,30+1))\n",
    "            else:\n",
    "                nlist = [ntor]\n",
    "            pscs_n_t[ntor][itime] = np.real(orbp.create_potsc(itime, nchi=None, nlist=nlist))"
   ]
  },
  {
   "cell_type": "code",
   "execution_count": null,
   "metadata": {},
   "outputs": [],
   "source": [
    "if precompute_pscs:\n",
    "    for key in pscs_n_t.keys():\n",
    "        print(key, len(list(pscs_n_t[key].keys())))"
   ]
  },
  {
   "cell_type": "code",
   "execution_count": null,
   "metadata": {},
   "outputs": [],
   "source": [
    "sub_kwargs={\"figsize\":(10,10)}"
   ]
  },
  {
   "cell_type": "code",
   "execution_count": null,
   "metadata": {},
   "outputs": [],
   "source": [
    "if precompute_pscs:\n",
    "    nrange=(min(orbp.n_mode_numbers),max(orbp.n_mode_numbers),orbp.nft)\n",
    "    @interact(ntor=nrange,itime=(0,orbp.p3t.shape[0]-1),savefig=False, outline_eq=False, all_modes=False)\n",
    "    def plot_pscs_t(ntor=None, itime=None, savefig=None, outline_eq=False, all_modes=False):\n",
    "        if ntor not in pscs_n_t:\n",
    "            return\n",
    "        if itime not in pscs_n_t[ntor]['itimes']:\n",
    "            itime = pscs_n_t[ntor]['itimes'][np.argmin(np.abs(np.array(pscs_n_t[ntor]['itimes']) - itime))]\n",
    "        fig, ax = plt.subplots(**sub_kwargs)\n",
    "        if all_modes:\n",
    "            ntor = -1\n",
    "        _ = orbp.plot_psc(np.real(pscs_n_t[ntor][itime]), fig=fig, ax=ax, aspect=1, cmap='RdBu_r', sym_clim=True, outline=True, outline_eq=outline_eq)\n",
    "        ntitle = str(ntor) if ntor != -1 else \"all\"\n",
    "        ax.set_title('n={}, t={}'.format(ntitle, pscs_n_t[ntor]['times'][itime]))\n",
    "        if savefig:\n",
    "            fig_filename='psc_n{}_at_t{}.png'.format(ntitle, pscs_n_t[ntor]['times'][itime])\n",
    "            fig.savefig(fig_filename)\n",
    "            print(\"fig saved to {}\".format(fig_filename))"
   ]
  },
  {
   "cell_type": "code",
   "execution_count": null,
   "metadata": {},
   "outputs": [],
   "source": [
    "pscs_on_the_fly = False\n",
    "if pscs_on_the_fly:\n",
    "    nrange=(min(orbp.n_mode_numbers),max(orbp.n_mode_numbers),orbp.nft)\n",
    "    @interact(ntor=nrange,itime=(0,orbp.p3t.shape[0]-1),savefig=False, outline_eq=False, all_modes=False)\n",
    "    def plot_pscs_t_on_fly(ntor=None, itime=None, savefig=None, outline_eq=False, all_modes=False):\n",
    "        if ntor not in orbp.n_mode_numbers_nft:\n",
    "            return\n",
    "        fig, ax = plt.subplots(**sub_kwargs)\n",
    "        if all_modes:\n",
    "            nlist = orbp.n_mode_numbers_nft\n",
    "            ntitle = 'all'\n",
    "        else:\n",
    "            nlist = [ntor]\n",
    "            ntitle = str(ntor)\n",
    "        psc_arr = np.real(orbp.create_potsc(itime, nchi=None, nlist=nlist))\n",
    "        _ = orbp.plot_psc(psc_arr, fig=fig, ax=ax, aspect=1, cmap='RdBu_r', sym_clim=True, outline=True, outline_eq=outline_eq)\n",
    "        ax.set_title('n={}, t={}'.format(ntitle, orbp.p3t[itime]))\n",
    "        if savefig:\n",
    "            fig_filename='psc_n{}_at_t{}.png'.format(ntitle, orbp.p3t[itime])\n",
    "            fig.savefig(fig_filename)\n",
    "            print(\"fig saved to {}\".format(fig_filename))"
   ]
  },
  {
   "cell_type": "code",
   "execution_count": null,
   "metadata": {
    "scrolled": false
   },
   "outputs": [],
   "source": [
    "nrange=(min(orbp.n_mode_numbers), max(orbp.n_mode_numbers), orbp.nft)\n",
    "itrange=widgets.IntSlider(min=0, max=orbp.p3t.shape[0]-1, value=orbp.p3t.shape[0]-1)\n",
    "@interact_manual(ntor=nrange,itime=itrange,savefig=False, outline_eq=False, all_modes=False)\n",
    "def plot_pscs_t_on_fly(ntor=None, itime=None, savefig=None, outline_eq=False, all_modes=False):\n",
    "    if ntor not in orbp.n_mode_numbers_nft:\n",
    "        return\n",
    "    fig, ax = plt.subplots(**sub_kwargs)\n",
    "    if all_modes:\n",
    "        ntitle=\"all\"\n",
    "        nlist = orbp.n_mode_numbers_nft\n",
    "    else:\n",
    "        ntitle=str(ntor)\n",
    "        nlist = [ntor]\n",
    "    psc_arr = np.real(orbp.create_potsc(itime, nchi=None, nlist=nlist))\n",
    "    _ = orbp.plot_psc(psc_arr, fig=fig, ax=ax, aspect=1, cmap='RdBu_r', sym_clim=True, outline=True, outline_eq=outline_eq)\n",
    "#    ntitle = str(ntor) if ntor != -1 else \"all\"\n",
    "    ax.set_title('n={}, t={}'.format(ntitle, orbp.p3t[itime]))\n",
    "    if savefig:\n",
    "        fig_filename='psc_n{}_at_t{}.png'.format(ntitle, orbp.p3t[itime])\n",
    "        fig.savefig(fig_filename)\n",
    "        print(\"fig saved to {}\".format(fig_filename))"
   ]
  },
  {
   "cell_type": "code",
   "execution_count": null,
   "metadata": {},
   "outputs": [],
   "source": [
    "mlist=None\n",
    "mlsb=2\n",
    "musb=5\n",
    "nrange=(min(orbp.n_mode_numbers),max(orbp.n_mode_numbers),orbp.nft)\n",
    "@interact(ntor=nrange,savefig=False, save_all=False)\n",
    "def pfn_obj(ntor=None, savefig=None, save_all=False):\n",
    "    if save_all:\n",
    "        for ntor in orbp.n_mode_numbers_nft:\n",
    "            mlist = [ntor+i for i in np.arange(-mlsb,+musb+1)]\n",
    "            orbp.plot_fft_modes_at_peaks(ntor=ntor, savefig=True, mlist=mlist)\n",
    "    else:\n",
    "        mlist = [ntor+i for i in np.arange(-mlsb,+musb+1)]\n",
    "        orbp.plot_fft_modes_at_peaks(ntor=ntor, savefig=savefig, mlist=mlist)"
   ]
  },
  {
   "cell_type": "code",
   "execution_count": null,
   "metadata": {},
   "outputs": [],
   "source": [
    "\"\"\"\n",
    "Caveat w.r.t. radial coordinate\n",
    "\"\"\"\n",
    "mlist=None\n",
    "nrange=(min(orbp.n_mode_numbers),max(orbp.n_mode_numbers),orbp.nft)\n",
    "sfmin=orbp.orb5s.h5['/parameters/fields/sfmin'][0]\n",
    "sfmax=orbp.orb5s.h5['/parameters/fields/sfmax'][0]\n",
    "sfrange=widgets.FloatSlider(min=sfmin,max=sfmax,step=0.01,value=0.5)\n",
    "@interact(ntor=nrange, spos=sfrange, savefig=False, save_all=False)\n",
    "def pfns_obj(ntor=None, savefig=None, spos=None, save_all=False):\n",
    "    if save_all:\n",
    "        for ntor in orbp.n_mode_numbers_nft:\n",
    "            mlist = [ntor+i for i in np.arange(-mlsb,+musb+1)]\n",
    "            orbp.plot_fft_modes_at_spos(ntor=ntor, spos=spos, savefig=True, mlist=mlist)\n",
    "    else:\n",
    "        mlist = [ntor+i for i in np.arange(-mlsb,+musb+1)]\n",
    "        orbp.plot_fft_modes_at_spos(ntor=ntor, spos=spos, savefig=savefig, mlist=mlist)"
   ]
  },
  {
   "cell_type": "code",
   "execution_count": null,
   "metadata": {},
   "outputs": [],
   "source": [
    "def plot_m_of_n_at_t(ntor=None, imode=None, itime=None, time=1E6, savefig=False, full_range=True):\n",
    "    fig, ax = plt.subplots()\n",
    "    if itime is None:\n",
    "        itime = np.argmin(np.abs(orbp.p3t[:] - time))\n",
    "    if imode is None:\n",
    "        imode, = np.arange(len(orbp.n_mode_numbers))[np.array(orbp.n_mode_numbers)==ntor]\n",
    "    if full_range:\n",
    "        mmin = orbp.mharms[imode].min()\n",
    "        mmax = orbp.mharms[imode].max()\n",
    "    else:\n",
    "        mmin = ntor - mlsb\n",
    "        mmax = ntor + musb\n",
    "    for iharm, mharm in enumerate(np.arange(mmin, mmax+1)):\n",
    "        harm = np.sum(orbp.p3dz[itime,imode]*(orbp.mharms[imode]==mharm), axis=1)\n",
    "        ax.plot(np.abs(harm), label=mharm)\n",
    "    ax.legend(loc='best', framealpha=0.5, ncol=2)\n",
    "    ax.set_title(\"t={}\".format(orbp.p3t[itime]))\n",
    "    if savefig:\n",
    "        fig.savefig('mharms_in{}_it{}.pdf'.format(imode, itime))\n",
    "        \n",
    "nrange=(min(orbp.n_mode_numbers),max(orbp.n_mode_numbers),orbp.nft)\n",
    "itrange=widgets.IntSlider(min=0, max=orbp.p3t.shape[0]-1, value=orbp.p3t.shape[0]-1, continuous_update=False)\n",
    "@interact(ntor=nrange, itime=itrange, savefig=False, full_range=False)\n",
    "def plot_m_of_n_at_t_jup(ntor=None, itime=None, savefig=False, full_range=False):\n",
    "    return plot_m_of_n_at_t(ntor=ntor, itime=itime, savefig=savefig, full_range=full_range)"
   ]
  },
  {
   "cell_type": "code",
   "execution_count": null,
   "metadata": {},
   "outputs": [],
   "source": [
    "nrange=(min(orbp.n_mode_numbers),max(orbp.n_mode_numbers),orbp.nft)\n",
    "mrange=widgets.IntSlider(min=0,max=100,value=25)\n",
    "@interact_manual(mharm=mrange, ntor=nrange, imode=fixed(None))\n",
    "def m_s_of_t(mharm=-1, imode=None, ntor=None):\n",
    "    if imode is None:\n",
    "        imode, = np.arange(len(orbp.n_mode_numbers))[np.array(orbp.n_mode_numbers)==ntor]\n",
    "    mamp = np.zeros((orbp.p3t.shape[0], orbp.ns_), dtype=np.complex64)\n",
    "    tmp = orbp.mharms[imode]\n",
    "    if mharm > tmp.min() and mharm < tmp.max():\n",
    "        for itime, time in enumerate(orbp.p3t[:]):\n",
    "            mamp[itime,:] = np.sum(orbp.p3dz[itime,imode]*(tmp==mharm), axis=1)\n",
    "    st_grid = np.meshgrid(np.arange(orbp.ns_), orbp.p3t[:])\n",
    "    im = plt.pcolormesh(st_grid[0], st_grid[1], np.real(mamp), cmap='RdBu_r')\n",
    "    im.set_clim(np.array([-1,1])*np.max(np.abs(im.get_clim())))"
   ]
  },
  {
   "cell_type": "code",
   "execution_count": null,
   "metadata": {},
   "outputs": [],
   "source": [
    "fig, ax = plot_sig_noise.plot_sig_noise()"
   ]
  },
  {
   "cell_type": "code",
   "execution_count": null,
   "metadata": {},
   "outputs": [],
   "source": [
    "orb = orb5_utils.orb5_data()\n",
    "orb.load_hdf5()\n",
    "orb.load_phi(phi_2d_type='potsp')\n",
    "p2pt = orb.phi_2d['time']\n",
    "@interact(itime=widgets.IntSlider(min=0, max=len(p2pt[:])-1, values=len(p2pt[:]-1), continuous_update=False))\n",
    "def plot_n_of_s_at_t(itime=-1):\n",
    "    fig, ax = orb.plot_fft_modes_at_t(itime, ifreqlist=orbp.n_mode_numbers_nft)\n",
    "    ax.set_title(\"t={}\".format(p2pt[itime]));"
   ]
  },
  {
   "cell_type": "code",
   "execution_count": null,
   "metadata": {},
   "outputs": [],
   "source": [
    "print('Miscellaneous extra')"
   ]
  },
  {
   "cell_type": "code",
   "execution_count": null,
   "metadata": {},
   "outputs": [],
   "source": [
    "a  = orbp.get_m_imode(0,15)"
   ]
  },
  {
   "cell_type": "code",
   "execution_count": null,
   "metadata": {},
   "outputs": [],
   "source": [
    "im = plt.pcolormesh(orbp.p2cr, orbp.p2cz, np.real(pscs[-1]), cmap='RdBu_r')\n",
    "im.set_clim(np.array([-1,1])*np.max(np.abs(im.get_clim())))\n",
    "plt.gca().set_aspect(1)"
   ]
  },
  {
   "cell_type": "code",
   "execution_count": null,
   "metadata": {},
   "outputs": [],
   "source": [
    "pscs[-1].shape"
   ]
  },
  {
   "cell_type": "code",
   "execution_count": null,
   "metadata": {},
   "outputs": [],
   "source": [
    "@interact(a=(0,100,2))\n",
    "def testprint(a=1):\n",
    "    print(a)"
   ]
  },
  {
   "cell_type": "code",
   "execution_count": null,
   "metadata": {},
   "outputs": [],
   "source": [
    "fp = h5py.File('orb5_res_parallel.h5', 'r')"
   ]
  },
  {
   "cell_type": "code",
   "execution_count": null,
   "metadata": {},
   "outputs": [],
   "source": [
    "p3 = fp['/data/var3d/generic/pot3d/']"
   ]
  },
  {
   "cell_type": "code",
   "execution_count": null,
   "metadata": {},
   "outputs": [],
   "source": [
    "p3d = p3['data']\n",
    "p3t = p3['time']\n",
    "p3m = p3['mmin']"
   ]
  },
  {
   "cell_type": "code",
   "execution_count": null,
   "metadata": {},
   "outputs": [],
   "source": [
    "# p3dz = (p3d['real'] + 1j*p3d['imaginary'])\n",
    "p3dz = p3d"
   ]
  },
  {
   "cell_type": "code",
   "execution_count": null,
   "metadata": {},
   "outputs": [],
   "source": [
    "#orb = orb5_utils.orb5_data()\n",
    "#orb.load_hdf5()\n",
    "orb = orbp.orb5s"
   ]
  },
  {
   "cell_type": "code",
   "execution_count": null,
   "metadata": {},
   "outputs": [],
   "source": [
    "p2c = orb.h5['/data/var2d/generic/potsc']\n",
    "p2cd = p2c['data']\n",
    "p2ct = p2c['time']\n",
    "p2cr = p2c['rsc']\n",
    "p2cz = p2c['zsc']\n",
    "p2cs = p2c['coord1']\n",
    "p2cc = p2c['coord2']"
   ]
  },
  {
   "cell_type": "code",
   "execution_count": null,
   "metadata": {},
   "outputs": [],
   "source": [
    "p2p = orb.h5['/data/var2d/generic/potsp']\n",
    "p2pd = p2p['data']\n",
    "p2pt = p2p['time']\n",
    "p2ps = p2p['coord1']\n",
    "p2pp = p2p['coord2']"
   ]
  },
  {
   "cell_type": "code",
   "execution_count": null,
   "metadata": {},
   "outputs": [],
   "source": [
    "plt.pcolormesh(np.abs(p3dz[-1,-1,:,:]))"
   ]
  },
  {
   "cell_type": "code",
   "execution_count": null,
   "metadata": {},
   "outputs": [],
   "source": [
    "itime = -1\n",
    "fig, ax = plt.subplots(figsize=(4,6))\n",
    "im = ax.pcolormesh(p2cr, p2cz, p2cd[itime], cmap='RdBu_r')\n",
    "im.set_clim(np.array([-1,1])*np.max(np.abs(im.get_clim())))\n",
    "ax.plot(p2cr[:,0], p2cz[:,0], color='k')\n",
    "ax.plot(p2cr[:,-1], p2cz[:,-1], color='k')\n",
    "ax.plot(orb.h5['/equil/sc/r_c'][:,-1], orb.h5['/equil/sc/z_c'][:,-1])\n",
    "ax.set_aspect('equal')\n",
    "ax.set_title(\"t={}\".format(p2ct[itime]));"
   ]
  },
  {
   "cell_type": "code",
   "execution_count": null,
   "metadata": {},
   "outputs": [],
   "source": [
    "plt.plot(orb.h5['/equil/sc/r_c'][:,-1], orb.h5['/equil/sc/z_c'][:,-1])"
   ]
  },
  {
   "cell_type": "code",
   "execution_count": null,
   "metadata": {},
   "outputs": [],
   "source": []
  },
  {
   "cell_type": "code",
   "execution_count": null,
   "metadata": {},
   "outputs": [],
   "source": [
    "np.abs(p3m)"
   ]
  },
  {
   "cell_type": "code",
   "execution_count": null,
   "metadata": {},
   "outputs": [],
   "source": [
    "p3d.shape"
   ]
  },
  {
   "cell_type": "code",
   "execution_count": null,
   "metadata": {},
   "outputs": [],
   "source": []
  },
  {
   "cell_type": "code",
   "execution_count": null,
   "metadata": {},
   "outputs": [],
   "source": []
  },
  {
   "cell_type": "code",
   "execution_count": null,
   "metadata": {},
   "outputs": [],
   "source": []
  },
  {
   "cell_type": "code",
   "execution_count": null,
   "metadata": {},
   "outputs": [],
   "source": []
  },
  {
   "cell_type": "code",
   "execution_count": null,
   "metadata": {},
   "outputs": [],
   "source": []
  },
  {
   "cell_type": "code",
   "execution_count": null,
   "metadata": {},
   "outputs": [],
   "source": []
  },
  {
   "cell_type": "code",
   "execution_count": null,
   "metadata": {},
   "outputs": [],
   "source": [
    "a = np.meshgrid(np.arange(p3d.shape[3]), np.arange(p3d.shape[2]))"
   ]
  },
  {
   "cell_type": "code",
   "execution_count": null,
   "metadata": {},
   "outputs": [],
   "source": [
    "b = a[0]"
   ]
  },
  {
   "cell_type": "code",
   "execution_count": null,
   "metadata": {},
   "outputs": [],
   "source": [
    "b.shape"
   ]
  },
  {
   "cell_type": "code",
   "execution_count": null,
   "metadata": {},
   "outputs": [],
   "source": [
    "p3m.shape"
   ]
  },
  {
   "cell_type": "code",
   "execution_count": null,
   "metadata": {},
   "outputs": [],
   "source": [
    "full_range = True\n",
    "savefig = False\n",
    "#a = np.meshgrid(np.arange(p3d.shape[3]), np.arange(p3d.shape[2]))\n",
    "#b = a[0]\n",
    "for imode in range(p3m.shape[0]):\n",
    "    if orbp.n_mode_numbers[imode] not in orbp.n_mode_numbers_nft:\n",
    "        continue\n",
    "    ntor = orbp.n_mode_numbers[imode]\n",
    "    fig, ax = plt.subplots()\n",
    "    itime = -1\n",
    "    time = p3t[itime]\n",
    "    #tmp = np.abs(np.array([p3m[imode]]).transpose() + b)\n",
    "    tmp = orbp.mharms[imode]\n",
    "    if full_range:\n",
    "        mmin = tmp.min()\n",
    "        mmax = tmp.max()\n",
    "    else:\n",
    "        mmin = 5\n",
    "        mmax = 12\n",
    "    for iharm, mharm in enumerate(np.arange(mmin, mmax+1)):\n",
    "        harm = np.sum(p3dz[itime,imode]*(tmp==mharm), axis=1)\n",
    "        ax.plot(np.abs(harm), label=mharm)\n",
    "    ax.legend(loc='best', framealpha=0.5, ncol=2)\n",
    "    ax.set_title(\"n={}, t={}\".format(ntor, time))\n",
    "    if savefig:\n",
    "        fig.savefig('diag_3drhsf_in{}_it{}.pdf'.format(imode, itime))"
   ]
  },
  {
   "cell_type": "code",
   "execution_count": null,
   "metadata": {},
   "outputs": [],
   "source": [
    "p3m"
   ]
  },
  {
   "cell_type": "code",
   "execution_count": null,
   "metadata": {},
   "outputs": [],
   "source": [
    "a = np.meshgrid(np.arange(p3d.shape[3]), np.arange(p3d.shape[2]))\n",
    "b = a[0]\n",
    "fig, axarr = plt.subplots(2, sharex=True)\n",
    "imode = -1\n",
    "itime = -1\n",
    "ntor = orbp.n_mode_numbers[imode]\n",
    "for iharm, mharm in enumerate(ntor + np.arange(-mlsb,musb+1)):\n",
    "    tmp1 = np.abs(p3m[:]).transpose() - b\n",
    "    tmp2 = orbp.mharms[imode]\n",
    "    for itmp, tmp in enumerate([tmp1,tmp2]):\n",
    "        harm = np.sum(p3dz[itime,imode]*(tmp==mharm), axis=1)\n",
    "        axarr[itmp].plot(np.abs(harm), label=mharm)\n",
    "        ax.legend(loc='best', framealpha=0.5)"
   ]
  },
  {
   "cell_type": "code",
   "execution_count": null,
   "metadata": {},
   "outputs": [],
   "source": [
    "plt.pcolormesh(np.abs(p3dz[itime,imode]*(tmp==mharm)))"
   ]
  },
  {
   "cell_type": "code",
   "execution_count": null,
   "metadata": {},
   "outputs": [],
   "source": []
  },
  {
   "cell_type": "code",
   "execution_count": null,
   "metadata": {},
   "outputs": [],
   "source": []
  },
  {
   "cell_type": "code",
   "execution_count": null,
   "metadata": {},
   "outputs": [],
   "source": [
    "b.shape"
   ]
  },
  {
   "cell_type": "code",
   "execution_count": null,
   "metadata": {},
   "outputs": [],
   "source": [
    "p3dz.shape"
   ]
  },
  {
   "cell_type": "code",
   "execution_count": null,
   "metadata": {},
   "outputs": [],
   "source": [
    "#p3dz[-1,-1][b == 5]"
   ]
  },
  {
   "cell_type": "code",
   "execution_count": null,
   "metadata": {},
   "outputs": [],
   "source": [
    "tmp = np.abs(p3m[:]).transpose() + b\n",
    "b[tmp == 15]"
   ]
  },
  {
   "cell_type": "code",
   "execution_count": null,
   "metadata": {},
   "outputs": [],
   "source": []
  },
  {
   "cell_type": "code",
   "execution_count": null,
   "metadata": {},
   "outputs": [],
   "source": [
    "tmp = np.abs(p3m[:]).transpose() - b\n",
    "test = b[b[tmp == 9]]"
   ]
  },
  {
   "cell_type": "code",
   "execution_count": null,
   "metadata": {},
   "outputs": [],
   "source": [
    "np.sum(b * (tmp == 30), axis=1)"
   ]
  },
  {
   "cell_type": "code",
   "execution_count": null,
   "metadata": {},
   "outputs": [],
   "source": [
    "plt.plot(np.sum(np.abs(p3dz[-1,-1]) * (tmp == 9), axis=1))"
   ]
  },
  {
   "cell_type": "code",
   "execution_count": null,
   "metadata": {},
   "outputs": [],
   "source": [
    "mharm = 31\n",
    "imode = -1\n",
    "tmp = orbp.mharms[imode]\n",
    "fig, axarr = plt.subplots(1,3, sharey=True)\n",
    "fig2, ax = plt.subplots()\n",
    "axarr[0].pcolormesh(np.abs(p3dz[-1,imode]))\n",
    "axarr[1].pcolormesh((tmp == mharm))\n",
    "axarr[2].pcolormesh(np.abs(p3dz[-1,imode]) * (tmp==mharm))\n",
    "ax.plot(np.sum(np.abs(p3dz[-1,imode]) * (tmp==mharm), axis=1), linestyle='-')\n",
    "ax.plot(np.sum(np.abs(p3dz[-1,imode]) * (tmp==mharm+1), axis=1), linestyle='--')\n",
    "ax.plot(np.sum(np.abs(p3dz[-1,imode]) * (tmp==mharm+-1), axis=1), linestyle='--')\n",
    "#fig.tight_layout()\n",
    "#fig.savefig('m{}_summary.pdf'.format(mharm))"
   ]
  },
  {
   "cell_type": "code",
   "execution_count": null,
   "metadata": {},
   "outputs": [],
   "source": [
    "plt.pcolormesh(tmp-25)"
   ]
  },
  {
   "cell_type": "code",
   "execution_count": null,
   "metadata": {},
   "outputs": [],
   "source": [
    "p2cd.shape"
   ]
  },
  {
   "cell_type": "code",
   "execution_count": null,
   "metadata": {},
   "outputs": [],
   "source": [
    "def test_psp(nlist, potsc_c, p3dz_single, sgrid, chigrid, deltam, mharmlist):\n",
    "    jj = 1j\n",
    "    ns = len(sgrid)\n",
    "    for imode in range(len(nlist)):\n",
    "        ntor = nlist[imode]\n",
    "        for ispos in range(ns):\n",
    "            for im in range(2*deltam+1):\n",
    "                mharm = mharmlist[imode, ispos, im]\n",
    "                for ichi in range(len(chigrid)):\n",
    "                    chi = chigrid[ichi]\n",
    "                    potsc_c[ichi,ispos] = potsc_c[ichi,ispos] + p3dz_single[imode, ispos, im] * np.exp(jj * mharm * chi)\n"
   ]
  },
  {
   "cell_type": "code",
   "execution_count": null,
   "metadata": {},
   "outputs": [],
   "source": [
    "def test_psp2(nlist, potsc_c, p3dz_single, sgrid, chigrid, deltam, mharmlist):\n",
    "    ns = len(sgrid)\n",
    "    for imode in range(len(nlist)):\n",
    "        ntor = nlist[imode]\n",
    "        for ispos in range(ns):\n",
    "            for im in range(2*deltam+1):\n",
    "                mharm = mharmlist[imode,ispos,im]\n",
    "                potsc_c[:,ispos] = potsc_c[:,ispos] + p3dz_single[imode, ispos, im] * np.exp(1j * mharm * chigrid)\n"
   ]
  },
  {
   "cell_type": "code",
   "execution_count": null,
   "metadata": {},
   "outputs": [],
   "source": [
    "orbp.mharms.shape"
   ]
  },
  {
   "cell_type": "code",
   "execution_count": null,
   "metadata": {},
   "outputs": [],
   "source": [
    "from numba import jit, njit\n",
    "test_psp_jit = jit(test_psp)\n",
    "test_psp2_jit = jit(test_psp2)\n",
    "\n",
    "nchi = p2cc[:].shape[0]-1\n",
    "chigrid = 2*np.pi*(np.arange(nchi+1) / nchi)\n",
    "sgrid = p2cs[:]\n",
    "\n",
    "chigrid = p2cc[:]\n",
    "\n",
    "ns = sgrid.shape[0]\n",
    "\n",
    "p3dz_single = p3dz[-1]\n",
    "nlist = orbp.n_mode_numbers_nft[:]\n",
    "potsc_c = np.zeros((nchi+1, ns), dtype=np.complex64)\n",
    "\n",
    "%timeit(test_psp_jit(nlist, potsc_c, p3dz_single, sgrid, chigrid, 5, orbp.mharms[:]))\n",
    "#%timeit(test_psp(nlist, potsc_c, p3dz_single, sgrid, chigrid, 5, orbp.mharms[:]))\n",
    "%timeit(test_psp2_jit(nlist, potsc_c, p3dz_single, sgrid, chigrid, 5, orbp.mharms[:]))\n",
    "%timeit(test_psp2(nlist, potsc_c, p3dz_single, sgrid, chigrid, 5, orbp.mharms[:]))"
   ]
  },
  {
   "cell_type": "code",
   "execution_count": null,
   "metadata": {},
   "outputs": [],
   "source": [
    "p3dz_single.shape"
   ]
  },
  {
   "cell_type": "code",
   "execution_count": null,
   "metadata": {},
   "outputs": [],
   "source": [
    "(chigrid).shape"
   ]
  },
  {
   "cell_type": "code",
   "execution_count": null,
   "metadata": {},
   "outputs": [],
   "source": [
    "ispos = 30\n",
    "time = 1.E6\n",
    "itime_2d = np.argmin(np.abs(p2ct[:] - time))\n",
    "time_2d = p2ct[itime_2d]\n",
    "itime_3d = np.argmin(np.abs(p3t[:] - time_2d))\n",
    "\n",
    "ns = p3dz.shape[2]-2\n",
    "nchi = p2cc.shape[0]-1\n",
    "\n",
    "sgrid = p2cs\n",
    "chigrid = 2*np.pi*(np.arange(nchi+1) / nchi)\n",
    "potsc_c = np.zeros((nchi+1, ns), dtype=np.complex64)\n",
    "for imode, ntor in enumerate(orbp.n_mode_numbers):\n",
    "    if ntor not in orbp.n_mode_numbers_nft:\n",
    "        continue\n",
    "    \n",
    "    for ispos in range(ns):\n",
    "        for im in np.arange(p3dz.shape[3]):\n",
    "#            mharm = tmp[ispos, im]\n",
    "            mharm = orbp.mharms[imode][ispos,im]\n",
    "            potsc_c[:,ispos] = potsc_c[:,ispos] + (p3dz[itime_3d, imode, ispos, im] * np.exp(1j * mharm * chigrid))\n",
    "\n",
    "fig, axarr = plt.subplots(1,3, figsize=(30,10))\n",
    "axarr[0].pcolormesh(p2cr, p2cz, np.real(potsc_c))\n",
    "axarr[0].set_aspect(1)\n",
    "axarr[0].set_title(\"t={} from 3D (real), code above\".format(p3t[itime_3d]));\n",
    "\n",
    "axarr[1].pcolormesh(p2cr, p2cz, p2cd[itime_2d])\n",
    "axarr[1].set_aspect('equal')\n",
    "axarr[1].set_title(\"t={} from 2D\".format(p2ct[itime_2d]));\n",
    "\n",
    "#axarr[2].pcolormesh(p2cr, p2cz, np.imag(potsc_c))\n",
    "#axarr[2].set_aspect(1)\n",
    "#axarr[2].set_title(\"t={} from 3D (imag)\".format(p3t[itime_3d]));\n",
    "\n",
    "\n",
    "psc = np.real(orbp.create_potsc(itime_3d))\n",
    "axarr[2].pcolormesh(p2cr, p2cz, psc)\n",
    "axarr[2].set_aspect(1)\n",
    "axarr[2].set_title(\"t={} from 3D (real), using function\".format(p3t[itime_3d]));"
   ]
  },
  {
   "cell_type": "code",
   "execution_count": null,
   "metadata": {},
   "outputs": [],
   "source": [
    "chigrid.shape"
   ]
  },
  {
   "cell_type": "code",
   "execution_count": null,
   "metadata": {},
   "outputs": [],
   "source": [
    "print(p2cd[itime_2d].shape)\n",
    "print(potsc_c.shape)"
   ]
  },
  {
   "cell_type": "code",
   "execution_count": null,
   "metadata": {},
   "outputs": [],
   "source": [
    "time = 1.e6\n",
    "itime_2d = np.argmin(np.abs(p2ct[:] - time))\n",
    "time_2d = p2ct[itime_2d]\n",
    "itime_3d = np.argmin(np.abs(p3t[:] - time_2d))\n",
    "time_3d = p3t[itime_3d]\n",
    "print(time_2d, time_3d)\n",
    "itime = itime_3d\n",
    "chi_ref = 0.0\n",
    "ichi = np.argmin(np.abs(p2cc[:] - chi_ref))\n",
    "\n",
    "fig, axarr = plt.subplots(1,3, figsize=(10,3))\n",
    "\n",
    "axarr[0].plot(np.real(potsc_c[ichi,:]))\n",
    "axarr[0].plot(np.imag(potsc_c[ichi,:]), '--')\n",
    "axarr[0].plot(np.abs( potsc_c[ichi,:]), 'g-')\n",
    "\n",
    "ns = p3dz.shape[2]-2\n",
    "print(p2ps.shape, p2pp.shape, p2pd.shape, p2pt.shape)\n",
    "nphi = p2pp.shape[0]\n",
    "\n",
    "\n",
    "if chi_ref == 0.0:\n",
    "    potsc_c_slice = np.sum(p3dz[itime,:,:-2,:], axis=2)\n",
    "else:\n",
    "    potsc_c_slice = potsc_c[ichi,:-2]\n",
    "\n",
    "sgrid = p2cs\n",
    "phigrid = 2*np.pi*(np.arange(nphi) / nphi)\n",
    "potsp = np.zeros((nphi, ns), dtype=np.complex64)\n",
    "for imode, ntor in enumerate(orbp.n_mode_numbers):\n",
    "    if ntor not in orbp.n_mode_numbers_nft:\n",
    "        continue\n",
    "    for ispos in range(ns):\n",
    "        potsp[:,ispos] = potsp[:,ispos] + (potsc_c_slice[imode, ispos]* np.exp(-1j * ntor * phigrid))\n",
    "    \n",
    "axarr[1].pcolormesh(np.real(potsp[:,:]))\n",
    "axarr[2].pcolormesh(p2pd[itime_2d, :,:])\n",
    "#axarr[2].pcolormesh(p2pd[itime, :,:] - np.real(potsp[:,:]))\n",
    "print(np.max(np.abs(np.real(potsp[:,:]))))\n",
    "print(np.max(np.abs(p2pd[itime_2d, :,:])))\n",
    "\n",
    "print(np.max(np.abs(np.real(potsp[:,:]))) / np.max(np.abs(p2pd[itime_2d, :,:])))\n",
    "print(np.max(np.abs(p2pd[itime_2d, :,:] - np.real(potsp[:,:]))))"
   ]
  },
  {
   "cell_type": "code",
   "execution_count": null,
   "metadata": {},
   "outputs": [],
   "source": [
    "#dummy = np.ones((ns), dtype=np.complex64)\n",
    "dummy = np.sum(p3dz[itime,imode,:-3,:], axis=1)\n",
    "plt.plot(np.real(dummy))\n",
    "plt.plot(np.imag(dummy), '--')\n",
    "\n",
    "\"\"\"\n",
    "for im in np.arange(p3dz.shape[3]):\n",
    "    mharm = tmp[ispos, im]\n",
    "    potsc_c[:,ispos] = potsc_c[:,ispos] + (p3dz[itime, imode, ispos, im] * np.exp(1j * mharm * chigrid))\n",
    "\"\"\""
   ]
  },
  {
   "cell_type": "code",
   "execution_count": null,
   "metadata": {},
   "outputs": [],
   "source": [
    "plt.pcolormesh(p2cr, p2cz, np.angle(potsc_c))"
   ]
  },
  {
   "cell_type": "code",
   "execution_count": null,
   "metadata": {},
   "outputs": [],
   "source": [
    "smesh = np.meshgrid(np.arange(tmp.shape[1]), np.arange(tmp.shape[0]))[1]"
   ]
  },
  {
   "cell_type": "code",
   "execution_count": null,
   "metadata": {},
   "outputs": [],
   "source": [
    "print(smesh.shape, tmp.shape, p3dz[-1,-1].shape)"
   ]
  },
  {
   "cell_type": "code",
   "execution_count": null,
   "metadata": {},
   "outputs": [],
   "source": [
    "plt.pcolormesh(smesh, tmp, np.abs(p3dz[-1,-1]), shading='flat')"
   ]
  },
  {
   "cell_type": "code",
   "execution_count": null,
   "metadata": {},
   "outputs": [],
   "source": []
  },
  {
   "cell_type": "code",
   "execution_count": null,
   "metadata": {},
   "outputs": [],
   "source": [
    "itime = -1\n",
    "sfmin = 0.2\n",
    "sfmax = 0.7\n",
    "deltas = (sfmax - sfmin) / (tmp.shape[0]-3)\n",
    "\n",
    "dense_mmesh = np.meshgrid(np.arange(tmp.shape[0]), np.arange(tmp.max()+1))\n",
    "dense_p3dz_t1 = np.zeros(dense_mmesh[0].shape, dtype=np.complex64)\n",
    "\n",
    "mwidth = tmp.shape[1]\n",
    "for ispos in np.arange(tmp.shape[0]):\n",
    "    for imharm, mharm in enumerate(tmp[ispos]):\n",
    "        dense_p3dz_t1[mharm,ispos] = p3dz[itime, imode, ispos, imharm]\n",
    "plt.pcolormesh(sfmin + deltas * dense_mmesh[0], dense_mmesh[1] - 0.5, np.abs(dense_p3dz_t1))\n",
    "plt.plot(sfmin + deltas * dense_mmesh[0][0,:], np.abs(p3m[0])-0.5)\n",
    "plt.plot(sfmin + deltas * dense_mmesh[0][0,:], np.abs(p3m[0])-mwidth-0.5)\n",
    "plt.plot(sfmin + deltas * dense_mmesh[0][0,:], dense_mmesh[0][0,:]*0+7)"
   ]
  },
  {
   "cell_type": "code",
   "execution_count": null,
   "metadata": {},
   "outputs": [],
   "source": [
    "p3m[:]"
   ]
  },
  {
   "cell_type": "code",
   "execution_count": null,
   "metadata": {},
   "outputs": [],
   "source": []
  },
  {
   "cell_type": "code",
   "execution_count": null,
   "metadata": {},
   "outputs": [],
   "source": []
  },
  {
   "cell_type": "code",
   "execution_count": null,
   "metadata": {},
   "outputs": [],
   "source": []
  },
  {
   "cell_type": "code",
   "execution_count": null,
   "metadata": {},
   "outputs": [],
   "source": []
  },
  {
   "cell_type": "code",
   "execution_count": null,
   "metadata": {},
   "outputs": [],
   "source": []
  },
  {
   "cell_type": "code",
   "execution_count": null,
   "metadata": {},
   "outputs": [],
   "source": []
  },
  {
   "cell_type": "code",
   "execution_count": null,
   "metadata": {},
   "outputs": [],
   "source": []
  },
  {
   "cell_type": "code",
   "execution_count": null,
   "metadata": {},
   "outputs": [],
   "source": []
  },
  {
   "cell_type": "code",
   "execution_count": null,
   "metadata": {},
   "outputs": [],
   "source": []
  }
 ],
 "metadata": {
  "kernelspec": {
   "display_name": "Python 3",
   "language": "python",
   "name": "python3"
  },
  "language_info": {
   "codemirror_mode": {
    "name": "ipython",
    "version": 3
   },
   "file_extension": ".py",
   "mimetype": "text/x-python",
   "name": "python",
   "nbconvert_exporter": "python",
   "pygments_lexer": "ipython3",
   "version": "3.6.2"
  }
 },
 "nbformat": 4,
 "nbformat_minor": 2
}
